{
 "cells": [
  {
   "cell_type": "markdown",
   "id": "6a8d0d82",
   "metadata": {},
   "source": [
    "# Descripcion en VHLD usando estados\n",
    "\n",
    "La descripción en VHDL del circuito mostrado en la {numref}`logico_secuencial` se muestra abajo: \n",
    "\n",
    "```VHDL\n",
    "---------------------------------------------------------------------\n",
    "--- Descripción de un circuito secuencial usando estados\n",
    "------------------------------------------------------------------\n",
    "library ieee;\n",
    "\n",
    "```\n",
    "\n",
    "Una vez descrito el circuito enn variables de estado se compila y guarda."
   ]
  }
 ],
 "metadata": {
  "jupytext": {
   "formats": "md:myst",
   "text_representation": {
    "extension": ".md",
    "format_name": "myst",
    "format_version": 0.13,
    "jupytext_version": "1.11.5",
    "language": "es"
   }
  },
  "kernelspec": {
   "display_name": "Octave",
   "language": "Octave",
   "name": "Octave"
  },
  "source_map": [
   14
  ]
 },
 "nbformat": 4,
 "nbformat_minor": 5
}